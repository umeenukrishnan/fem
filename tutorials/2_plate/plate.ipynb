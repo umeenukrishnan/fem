{
 "cells": [
  {
   "cell_type": "markdown",
   "metadata": {},
   "source": [
    "This demo program solves the out-of-plane Kirchhoff-Love equations on the unit.\n",
    "\n",
    "Square with uniform transverse loading and fully clamped boundary conditions."
   ]
  },
  {
   "cell_type": "code",
   "execution_count": 58,
   "metadata": {},
   "outputs": [],
   "source": [
    "from dolfin import *\n",
    "from fenics_shells import *\n",
    "\n",
    "# and creating a mesh::\n",
    "\n",
    "mesh = UnitSquareMesh(256, 256)"
   ]
  },
  {
   "cell_type": "code",
   "execution_count": 59,
   "metadata": {},
   "outputs": [],
   "source": [
    "element_W = FiniteElement(\"Lagrange\", triangle,  2)\n",
    "W = FunctionSpace(mesh, element_W)"
   ]
  },
  {
   "cell_type": "code",
   "execution_count": 60,
   "metadata": {},
   "outputs": [],
   "source": [
    "w_ = Function(W)\n",
    "w = TrialFunction(W)\n",
    "w_t = TestFunction(W)"
   ]
  },
  {
   "cell_type": "code",
   "execution_count": 61,
   "metadata": {},
   "outputs": [],
   "source": [
    "E = Constant(10920)\n",
    "nu = Constant(0.3)\n",
    "t = Constant(0.001)"
   ]
  },
  {
   "cell_type": "code",
   "execution_count": 62,
   "metadata": {},
   "outputs": [],
   "source": [
    "theta = grad(w_)"
   ]
  },
  {
   "cell_type": "code",
   "execution_count": 63,
   "metadata": {},
   "outputs": [],
   "source": [
    "k = variable(sym(grad(theta)))"
   ]
  },
  {
   "cell_type": "code",
   "execution_count": 64,
   "metadata": {},
   "outputs": [],
   "source": [
    "D = (E*t**3)/(24.0*(1.0 - nu**2))\n",
    "psi_M = D*((1.0 - nu)*tr(k*k) + nu*(tr(k))**2)"
   ]
  },
  {
   "cell_type": "code",
   "execution_count": 65,
   "metadata": {},
   "outputs": [],
   "source": [
    "M = diff(psi_M, k)"
   ]
  },
  {
   "cell_type": "code",
   "execution_count": 66,
   "metadata": {},
   "outputs": [],
   "source": [
    "alpha = E*t**3\n",
    "h = CellDiameter(mesh)\n",
    "h_avg = (h('+') + h('-'))/2.0 "
   ]
  },
  {
   "cell_type": "code",
   "execution_count": 67,
   "metadata": {},
   "outputs": [],
   "source": [
    "n = FacetNormal(mesh)\n",
    "\n",
    "M_n = inner(M, outer(n, n))\n",
    "\n",
    "L_CDG = -inner(jump(theta, n), avg(M_n))*dS + \\\n",
    "           (1.0/2.0)*(alpha('+')/h_avg)*inner(jump(theta, n), jump(theta, n))*dS"
   ]
  },
  {
   "cell_type": "code",
   "execution_count": 68,
   "metadata": {},
   "outputs": [],
   "source": [
    "class AllBoundary(SubDomain):\n",
    "    def inside(self, x, on_boundary):\n",
    "        return on_boundary"
   ]
  },
  {
   "cell_type": "code",
   "execution_count": 69,
   "metadata": {},
   "outputs": [],
   "source": [
    "all_boundary = AllBoundary()\n",
    "bcs_w = [DirichletBC(W, Constant(0.0), all_boundary)]"
   ]
  },
  {
   "cell_type": "code",
   "execution_count": 70,
   "metadata": {},
   "outputs": [],
   "source": [
    "facet_function = MeshFunction(\"size_t\", mesh, mesh.geometry().dim() - 1)\n",
    "facet_function.set_all(0)\n",
    "all_boundary.mark(facet_function, 1)"
   ]
  },
  {
   "cell_type": "code",
   "execution_count": 71,
   "metadata": {},
   "outputs": [],
   "source": [
    "ds = Measure(\"ds\")(subdomain_data=facet_function)"
   ]
  },
  {
   "cell_type": "code",
   "execution_count": 72,
   "metadata": {},
   "outputs": [],
   "source": [
    "theta_d = Constant((0.0, 0.0))"
   ]
  },
  {
   "cell_type": "code",
   "execution_count": 73,
   "metadata": {},
   "outputs": [],
   "source": [
    "theta_effective = theta - theta_d \n",
    "L_BC = -inner(inner(theta_effective, n), M_n)*ds(1) + \\\n",
    "        (1.0/2.0)*(alpha/h)*inner(inner(theta_effective, n), inner(theta_effective, n))*ds(1) "
   ]
  },
  {
   "cell_type": "code",
   "execution_count": 74,
   "metadata": {},
   "outputs": [],
   "source": [
    "f = Constant(1)\n",
    "W_ext = f*w_*dx\n",
    "\n",
    "L = psi_M*dx - W_ext + L_CDG + L_BC\n",
    "\n",
    "F = derivative(L, w_, w_t)\n",
    "J = derivative(F, w_, w)\n",
    "\n",
    "A, b = assemble_system(J, -F, bcs=bcs_w)\n",
    "solver = PETScLUSolver(\"mumps\")\n",
    "solver.solve(A, w_.vector(), b)\n",
    "XDMFFile(\"output/w.xdmf\").write(w_)"
   ]
  },
  {
   "cell_type": "code",
   "execution_count": 75,
   "metadata": {},
   "outputs": [],
   "source": [
    "def test_close():\n",
    "    import numpy as np\n",
    "    assert(np.isclose(w_((0.5, 0.5)), 1.265E-6, atol=1E-3, rtol=1E-3))"
   ]
  },
  {
   "cell_type": "code",
   "execution_count": 76,
   "metadata": {},
   "outputs": [
    {
     "data": {
      "text/plain": [
       "1265.0722345646789"
      ]
     },
     "execution_count": 76,
     "metadata": {},
     "output_type": "execute_result"
    }
   ],
   "source": [
    "w_((0.5, 0.5))"
   ]
  },
  {
   "cell_type": "code",
   "execution_count": null,
   "metadata": {},
   "outputs": [],
   "source": []
  },
  {
   "cell_type": "code",
   "execution_count": null,
   "metadata": {},
   "outputs": [],
   "source": []
  },
  {
   "cell_type": "code",
   "execution_count": null,
   "metadata": {},
   "outputs": [],
   "source": []
  },
  {
   "cell_type": "code",
   "execution_count": null,
   "metadata": {},
   "outputs": [],
   "source": []
  }
 ],
 "metadata": {
  "kernelspec": {
   "display_name": "Python 3",
   "language": "python",
   "name": "python3"
  },
  "language_info": {
   "codemirror_mode": {
    "name": "ipython",
    "version": 3
   },
   "file_extension": ".py",
   "mimetype": "text/x-python",
   "name": "python",
   "nbconvert_exporter": "python",
   "pygments_lexer": "ipython3",
   "version": "3.6.7"
  }
 },
 "nbformat": 4,
 "nbformat_minor": 4
}
